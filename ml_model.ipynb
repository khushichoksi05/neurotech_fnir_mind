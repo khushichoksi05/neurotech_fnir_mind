{
 "cells": [
  {
   "cell_type": "code",
   "execution_count": null,
   "metadata": {},
   "outputs": [],
   "source": [
    "import pandas as pd\n",
    "file_path = 'group_stats.xlsx'\n",
    "xls = pd.ExcelFile(file_path)\n",
    "sheet_names = xls.sheet_names\n",
    "sheet_names\n",
    "# Load the first sheet to examine the data structure\n",
    "df = xls.parse('fingerTapping_HbO')\n",
    "df.head()"
   ]
  },
  {
   "cell_type": "code",
   "execution_count": null,
   "metadata": {},
   "outputs": [],
   "source": [
    "from sklearn.model_selection import train_test_split\n",
    "from sklearn.metrics import classification_report\n",
    "import xgboost as xgb\n",
    "\n",
    "# Clean and reshape the DataFrame\n",
    "df_clean = df[1:].copy()  # Skip the header row in the first row\n",
    "df_clean.columns = ['PatientID', 'IsParkinson?', 'L_max', 'L_timeToMax', 'L_mean', 'L_AUC',\n",
    "                    'R_max', 'R_timeToMax', 'R_mean', 'R_AUC']\n",
    "df_clean = df_clean.dropna()\n",
    "\n",
    "# Convert appropriate columns to numeric\n",
    "for col in df_clean.columns[1:]:\n",
    "    df_clean[col] = pd.to_numeric(df_clean[col], errors='coerce')\n",
    "\n",
    "df_clean = df_clean.dropna()\n",
    "\n",
    "# Features and labels\n",
    "X = df_clean.drop(columns=['PatientID', 'IsParkinson?'])\n",
    "y = df_clean['IsParkinson?'].astype(int)\n",
    "\n",
    "# Split data\n",
    "X_train, X_test, y_train, y_test = train_test_split(X, y, test_size=0.2, random_state=42)\n",
    "\n",
    "# Train XGBoost model\n",
    "model = xgb.XGBClassifier(use_label_encoder=False, eval_metric='logloss')\n",
    "model.fit(X_train, y_train)\n",
    "\n",
    "# Predict and evaluate\n",
    "y_pred = model.predict(X_test)\n",
    "report = classification_report(y_test, y_pred, output_dict=True)\n",
    "\n",
    "# Display classification report\n",
    "pd.DataFrame(report).transpose()\n"
   ]
  },
  {
   "cell_type": "code",
   "execution_count": null,
   "metadata": {},
   "outputs": [],
   "source": []
  }
 ],
 "metadata": {
  "language_info": {
   "name": "python"
  }
 },
 "nbformat": 4,
 "nbformat_minor": 2
}
